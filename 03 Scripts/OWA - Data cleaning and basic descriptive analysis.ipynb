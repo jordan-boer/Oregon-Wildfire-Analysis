{
 "cells": [
  {
   "cell_type": "markdown",
   "id": "d9b705f8-a376-4129-b538-99d9923393f2",
   "metadata": {},
   "source": [
    "# **Oregon Wildfire Analysis - Cleaning and Descriptive Analysis**"
   ]
  },
  {
   "cell_type": "markdown",
   "id": "5b1bbf15-992f-4073-ad8d-51b706d04055",
   "metadata": {},
   "source": [
    "## **01. Importing Libraries and Data**"
   ]
  },
  {
   "cell_type": "code",
   "execution_count": 17,
   "id": "ed0d839f-445d-4c93-8900-3aa9bad42923",
   "metadata": {},
   "outputs": [],
   "source": [
    "# Import libraries\n",
    "import pandas as pd\n",
    "import numpy as np\n",
    "import os"
   ]
  },
  {
   "cell_type": "code",
   "execution_count": 18,
   "id": "a6794144-1514-4570-9719-f5f5c8944538",
   "metadata": {},
   "outputs": [],
   "source": [
    "# Create a path to project folder\n",
    "path = r'C:\\Users\\jboer\\OneDrive\\Documents\\Career Foundry\\Oregon Wildfire Analysis'"
   ]
  },
  {
   "cell_type": "code",
   "execution_count": 19,
   "id": "a032a95f-5b84-4278-8cc1-91ef8a0d0359",
   "metadata": {},
   "outputs": [],
   "source": [
    "# Importing dataset\n",
    "df = pd.read_csv(os.path.join(path, '02 Data', 'Original Data', 'fire_occurence.csv'), index_col = False)"
   ]
  },
  {
   "cell_type": "markdown",
   "id": "117f3224-0612-496f-90a7-2b32fff57e52",
   "metadata": {},
   "source": [
    "## **02. Data Exploration**"
   ]
  },
  {
   "cell_type": "code",
   "execution_count": 20,
   "id": "e3d044bd-7ce3-4cf0-9a1b-9d2f5ce74e88",
   "metadata": {},
   "outputs": [
    {
     "data": {
      "text/plain": [
       "(23490, 38)"
      ]
     },
     "execution_count": 20,
     "metadata": {},
     "output_type": "execute_result"
    }
   ],
   "source": [
    "# Checking shape of dataframe\n",
    "df.shape"
   ]
  },
  {
   "cell_type": "code",
   "execution_count": 21,
   "id": "95239efb-f2ef-41f9-ada8-16ba71eeb21a",
   "metadata": {},
   "outputs": [
    {
     "name": "stdout",
     "output_type": "stream",
     "text": [
      "<class 'pandas.core.frame.DataFrame'>\n",
      "RangeIndex: 23490 entries, 0 to 23489\n",
      "Data columns (total 38 columns):\n",
      " #   Column                  Non-Null Count  Dtype  \n",
      "---  ------                  --------------  -----  \n",
      " 0   Serial                  23490 non-null  int64  \n",
      " 1   FireCategory            23490 non-null  object \n",
      " 2   FireYear                23490 non-null  int64  \n",
      " 3   Area                    23490 non-null  object \n",
      " 4   DistrictName            23490 non-null  object \n",
      " 5   UnitName                23490 non-null  object \n",
      " 6   FullFireNumber          23490 non-null  object \n",
      " 7   FireName                23490 non-null  object \n",
      " 8   Size_class              23490 non-null  object \n",
      " 9   EstTotalAcres           23411 non-null  float64\n",
      " 10  Protected_Acres         23490 non-null  float64\n",
      " 11  HumanOrLightning        23490 non-null  object \n",
      " 12  CauseBy                 23362 non-null  object \n",
      " 13  GeneralCause            23490 non-null  object \n",
      " 14  SpecificCause           23266 non-null  object \n",
      " 15  Cause_Comments          9805 non-null   object \n",
      " 16  Lat_DD                  23480 non-null  float64\n",
      " 17  Long_DD                 23480 non-null  float64\n",
      " 18  LatLongDD               23480 non-null  object \n",
      " 19  FO_LandOwnType          23490 non-null  object \n",
      " 20  Twn                     23478 non-null  object \n",
      " 21  Rng                     23475 non-null  object \n",
      " 22  Sec                     23478 non-null  float64\n",
      " 23  Subdiv                  23459 non-null  object \n",
      " 24  LandmarkLocation        22208 non-null  object \n",
      " 25  County                  23490 non-null  object \n",
      " 26  RegUseZone              23440 non-null  object \n",
      " 27  RegUseRestriction       23401 non-null  object \n",
      " 28  Industrial_Restriction  23401 non-null  object \n",
      " 29  Ign_DateTime            23396 non-null  object \n",
      " 30  ReportDateTime          23490 non-null  object \n",
      " 31  Discover_DateTime       23396 non-null  object \n",
      " 32  Control_DateTime        23395 non-null  object \n",
      " 33  CreationDate            23487 non-null  object \n",
      " 34  ModifiedDate            23490 non-null  object \n",
      " 35  DistrictCode            23490 non-null  int64  \n",
      " 36  UnitCode                23490 non-null  int64  \n",
      " 37  DistFireNumber          23490 non-null  object \n",
      "dtypes: float64(5), int64(4), object(29)\n",
      "memory usage: 6.8+ MB\n"
     ]
    }
   ],
   "source": [
    "# Checking info of dataframe\n",
    "df.info()"
   ]
  },
  {
   "cell_type": "markdown",
   "id": "727855c8-0aa6-4aca-8536-ee816df2fa87",
   "metadata": {},
   "source": [
    "## **03. Data Cleaning and Consistency Checks**"
   ]
  },
  {
   "cell_type": "markdown",
   "id": "8c647b7e-0b63-482b-b628-f39129486052",
   "metadata": {},
   "source": [
    "### 03.1. Dropping Columns"
   ]
  },
  {
   "cell_type": "code",
   "execution_count": 45,
   "id": "39ff733d-11a3-460d-af83-a0ca02d1794e",
   "metadata": {},
   "outputs": [],
   "source": [
    "# Dropping columns not needed for analysis\n",
    "df_cull = df.drop(columns = ['Serial','FireCategory','FullFireNumber','SpecificCause','Cause_Comments','LatLongDD','Twn','Rng','Sec','Subdiv','LandmarkLocation','RegUseZone','RegUseRestriction','Industrial_Restriction','CreationDate','ModifiedDate','DistrictCode','UnitCode','DistFireNumber'])"
   ]
  },
  {
   "cell_type": "code",
   "execution_count": 46,
   "id": "95b4cd39-f263-4628-8085-5f1f4138e1ce",
   "metadata": {},
   "outputs": [
    {
     "name": "stdout",
     "output_type": "stream",
     "text": [
      "<class 'pandas.core.frame.DataFrame'>\n",
      "RangeIndex: 23490 entries, 0 to 23489\n",
      "Data columns (total 19 columns):\n",
      " #   Column             Non-Null Count  Dtype  \n",
      "---  ------             --------------  -----  \n",
      " 0   FireYear           23490 non-null  int64  \n",
      " 1   Area               23490 non-null  object \n",
      " 2   DistrictName       23490 non-null  object \n",
      " 3   UnitName           23490 non-null  object \n",
      " 4   FireName           23490 non-null  object \n",
      " 5   Size_class         23490 non-null  object \n",
      " 6   EstTotalAcres      23411 non-null  float64\n",
      " 7   Protected_Acres    23490 non-null  float64\n",
      " 8   HumanOrLightning   23490 non-null  object \n",
      " 9   CauseBy            23362 non-null  object \n",
      " 10  GeneralCause       23490 non-null  object \n",
      " 11  Lat_DD             23480 non-null  float64\n",
      " 12  Long_DD            23480 non-null  float64\n",
      " 13  FO_LandOwnType     23490 non-null  object \n",
      " 14  County             23490 non-null  object \n",
      " 15  Ign_DateTime       23396 non-null  object \n",
      " 16  ReportDateTime     23490 non-null  object \n",
      " 17  Discover_DateTime  23396 non-null  object \n",
      " 18  Control_DateTime   23395 non-null  object \n",
      "dtypes: float64(4), int64(1), object(14)\n",
      "memory usage: 3.4+ MB\n"
     ]
    }
   ],
   "source": [
    "# Checking success of dropping columns\n",
    "df_cull.info()"
   ]
  },
  {
   "cell_type": "markdown",
   "id": "f6dd4854-2645-4bb0-ae16-f053eaed3f7b",
   "metadata": {},
   "source": [
    "### 03.2. Missing Values"
   ]
  },
  {
   "cell_type": "code",
   "execution_count": 47,
   "id": "265b6af6-bfdb-43d9-867f-94d6fa20e99f",
   "metadata": {},
   "outputs": [
    {
     "data": {
      "text/plain": [
       "FireYear               0\n",
       "Area                   0\n",
       "DistrictName           0\n",
       "UnitName               0\n",
       "FireName               0\n",
       "Size_class             0\n",
       "EstTotalAcres         79\n",
       "Protected_Acres        0\n",
       "HumanOrLightning       0\n",
       "CauseBy              128\n",
       "GeneralCause           0\n",
       "Lat_DD                10\n",
       "Long_DD               10\n",
       "FO_LandOwnType         0\n",
       "County                 0\n",
       "Ign_DateTime          94\n",
       "ReportDateTime         0\n",
       "Discover_DateTime     94\n",
       "Control_DateTime      95\n",
       "dtype: int64"
      ]
     },
     "execution_count": 47,
     "metadata": {},
     "output_type": "execute_result"
    }
   ],
   "source": [
    "# Checking for missing values\n",
    "df_cull.isnull().sum()"
   ]
  },
  {
   "cell_type": "code",
   "execution_count": 48,
   "id": "74d4d079-01e0-4368-ac97-380f1b268eb1",
   "metadata": {},
   "outputs": [],
   "source": [
    "# Calculating the mean ratio of Protected_Acres to EstTotalAcres\n",
    "ratio = (df_cull['Protected_Acres'] / df_cull['EstTotalAcres']).mean()"
   ]
  },
  {
   "cell_type": "code",
   "execution_count": 49,
   "id": "ec42364e-9969-4afa-8862-f6d995a4bc79",
   "metadata": {},
   "outputs": [
    {
     "data": {
      "text/plain": [
       "0.9546592427359927"
      ]
     },
     "execution_count": 49,
     "metadata": {},
     "output_type": "execute_result"
    }
   ],
   "source": [
    "# Checking ratio\n",
    "ratio"
   ]
  },
  {
   "cell_type": "code",
   "execution_count": 50,
   "id": "247c8479-07ef-4a94-8a5f-718635b5ce00",
   "metadata": {},
   "outputs": [],
   "source": [
    "# Imputing missing values in EstTotalAcres using ratio\n",
    "df_cull.fillna({'EstTotalAcres': df['Protected_Acres'] / ratio}, inplace=True)"
   ]
  },
  {
   "cell_type": "code",
   "execution_count": 51,
   "id": "01b16a49-1313-422b-a722-4125b52c93c1",
   "metadata": {},
   "outputs": [
    {
     "data": {
      "text/plain": [
       "FireYear               0\n",
       "Area                   0\n",
       "DistrictName           0\n",
       "UnitName               0\n",
       "FireName               0\n",
       "Size_class             0\n",
       "EstTotalAcres          0\n",
       "Protected_Acres        0\n",
       "HumanOrLightning       0\n",
       "CauseBy              128\n",
       "GeneralCause           0\n",
       "Lat_DD                10\n",
       "Long_DD               10\n",
       "FO_LandOwnType         0\n",
       "County                 0\n",
       "Ign_DateTime          94\n",
       "ReportDateTime         0\n",
       "Discover_DateTime     94\n",
       "Control_DateTime      95\n",
       "dtype: int64"
      ]
     },
     "execution_count": 51,
     "metadata": {},
     "output_type": "execute_result"
    }
   ],
   "source": [
    "df_cull.isnull().sum()"
   ]
  },
  {
   "cell_type": "code",
   "execution_count": 52,
   "id": "bd717747-9a7c-4fd4-bf27-7cea3a3a9cff",
   "metadata": {},
   "outputs": [
    {
     "name": "stderr",
     "output_type": "stream",
     "text": [
      "C:\\Users\\jboer\\AppData\\Local\\Temp\\ipykernel_5184\\3499400158.py:2: FutureWarning: A value is trying to be set on a copy of a DataFrame or Series through chained assignment using an inplace method.\n",
      "The behavior will change in pandas 3.0. This inplace method will never work because the intermediate object on which we are setting values always behaves as a copy.\n",
      "\n",
      "For example, when doing 'df[col].method(value, inplace=True)', try using 'df.method({col: value}, inplace=True)' or df[col] = df[col].method(value) instead, to perform the operation inplace on the original object.\n",
      "\n",
      "\n",
      "  df_cull['CauseBy'].fillna('Unknown', inplace=True)\n"
     ]
    }
   ],
   "source": [
    "# Imputing value of \"Unknown\" for null values in CauseBy column\n",
    "df_cull['CauseBy'].fillna('Unknown', inplace=True)"
   ]
  },
  {
   "cell_type": "code",
   "execution_count": 54,
   "id": "c112f555-5668-4482-bbd5-1bca39b364b7",
   "metadata": {},
   "outputs": [],
   "source": [
    "# Dropping missing values from Lat_DD and Long_DD columns\n",
    "df_cull.dropna(subset = ['Lat_DD', 'Long_DD'], inplace=True)"
   ]
  },
  {
   "cell_type": "code",
   "execution_count": 64,
   "id": "9877c5ea-c1c4-4cc4-95f0-b3fa0173e09a",
   "metadata": {},
   "outputs": [
    {
     "name": "stderr",
     "output_type": "stream",
     "text": [
      "C:\\Users\\jboer\\AppData\\Local\\Temp\\ipykernel_5184\\1712451514.py:5: FutureWarning: A value is trying to be set on a copy of a DataFrame or Series through chained assignment using an inplace method.\n",
      "The behavior will change in pandas 3.0. This inplace method will never work because the intermediate object on which we are setting values always behaves as a copy.\n",
      "\n",
      "For example, when doing 'df[col].method(value, inplace=True)', try using 'df.method({col: value}, inplace=True)' or df[col] = df[col].method(value) instead, to perform the operation inplace on the original object.\n",
      "\n",
      "\n",
      "  df_cull[column].fillna(pd.NaT, inplace=True)\n"
     ]
    }
   ],
   "source": [
    "# Imputing a null timestamp value for the missing values in Ign_DateTime, Discover_DateTime, Control_DateTime columns\n",
    "impute_columns = ['Ign_DateTime', 'Discover_DateTime', 'Control_DateTime']\n",
    "\n",
    "for column in impute_columns:\n",
    "    df_cull[column].fillna(pd.NaT, inplace=True)"
   ]
  },
  {
   "cell_type": "code",
   "execution_count": 66,
   "id": "7e6e2dfb-e0fb-453e-98bb-7f8c5d17f9a4",
   "metadata": {},
   "outputs": [
    {
     "data": {
      "text/plain": [
       "FireYear              0\n",
       "Area                  0\n",
       "DistrictName          0\n",
       "UnitName              0\n",
       "FireName              0\n",
       "Size_class            0\n",
       "EstTotalAcres         0\n",
       "Protected_Acres       0\n",
       "HumanOrLightning      0\n",
       "CauseBy               0\n",
       "GeneralCause          0\n",
       "Lat_DD                0\n",
       "Long_DD               0\n",
       "FO_LandOwnType        0\n",
       "County                0\n",
       "Ign_DateTime         85\n",
       "ReportDateTime        0\n",
       "Discover_DateTime    86\n",
       "Control_DateTime     86\n",
       "dtype: int64"
      ]
     },
     "execution_count": 66,
     "metadata": {},
     "output_type": "execute_result"
    }
   ],
   "source": [
    "# Check that all missing values are taken care of\n",
    "df_cull.isnull().sum()"
   ]
  },
  {
   "cell_type": "markdown",
   "id": "d2a77691-fbd8-4fde-9876-5d36b4fb6d23",
   "metadata": {},
   "source": [
    "#### Missing values in the Ign_DateTime, Discover_DateTime, and Control_DateTime columns are ok since their absence means something to the analysis. Missing values in the Ign_DateTime column means they couldn't determine the date or time when the fire started. And missing values in the Discover and Control columns means that they likely didn't know the fires were happening until after they had put themselves out. "
   ]
  },
  {
   "cell_type": "markdown",
   "id": "25189d38-7f27-4ec4-baca-bb0a5537691e",
   "metadata": {},
   "source": [
    "### 03.3. Data Types"
   ]
  },
  {
   "cell_type": "code",
   "execution_count": 57,
   "id": "2ac4dddf-b4cf-47ef-a2bc-82ab4589b04d",
   "metadata": {},
   "outputs": [],
   "source": [
    "# Changing data type of Ign_DateTime, ReportDateTime, Discover_DateTime, and Control_DateTime to datetime\n",
    "convert_columns = ['Ign_DateTime', 'ReportDateTime', 'Discover_DateTime', 'Control_DateTime']\n",
    "\n",
    "for column in convert_columns:\n",
    "    df_cull[column] = pd.to_datetime(df_cull[column], format='%m/%d/%Y %H:%M')"
   ]
  },
  {
   "cell_type": "code",
   "execution_count": 61,
   "id": "434e621b-2d69-49a4-bc5a-b2fce8b9d366",
   "metadata": {},
   "outputs": [
    {
     "data": {
      "text/plain": [
       "FireYear                      int64\n",
       "Area                         object\n",
       "DistrictName                 object\n",
       "UnitName                     object\n",
       "FireName                     object\n",
       "Size_class                   object\n",
       "EstTotalAcres               float64\n",
       "Protected_Acres             float64\n",
       "HumanOrLightning             object\n",
       "CauseBy                      object\n",
       "GeneralCause                 object\n",
       "Lat_DD                      float64\n",
       "Long_DD                     float64\n",
       "FO_LandOwnType               object\n",
       "County                       object\n",
       "Ign_DateTime         datetime64[ns]\n",
       "ReportDateTime       datetime64[ns]\n",
       "Discover_DateTime    datetime64[ns]\n",
       "Control_DateTime     datetime64[ns]\n",
       "dtype: object"
      ]
     },
     "execution_count": 61,
     "metadata": {},
     "output_type": "execute_result"
    }
   ],
   "source": [
    "# Checking changed data type\n",
    "df_cull.dtypes"
   ]
  },
  {
   "cell_type": "markdown",
   "id": "2a2f2112-aebd-4517-bdd5-2655b88317c0",
   "metadata": {},
   "source": [
    "### 03.4. Duplicates"
   ]
  },
  {
   "cell_type": "code",
   "execution_count": 72,
   "id": "fd5ad76e-7429-4dd6-8c08-f55698238a33",
   "metadata": {},
   "outputs": [
    {
     "name": "stdout",
     "output_type": "stream",
     "text": [
      "Empty DataFrame\n",
      "Columns: [FireYear, Area, DistrictName, UnitName, FireName, Size_class, EstTotalAcres, Protected_Acres, HumanOrLightning, CauseBy, GeneralCause, Lat_DD, Long_DD, FO_LandOwnType, County, Ign_DateTime, ReportDateTime, Discover_DateTime, Control_DateTime]\n",
      "Index: []\n"
     ]
    }
   ],
   "source": [
    "# Checking for full duplicates\n",
    "df_dups = df_cull[df_cull.duplicated()]\n",
    "print(df_dups)"
   ]
  },
  {
   "cell_type": "markdown",
   "id": "39738612-0bc7-473d-adbd-c58c3d5cfa07",
   "metadata": {},
   "source": [
    "### 03.5. Formatting"
   ]
  },
  {
   "cell_type": "code",
   "execution_count": 73,
   "id": "453deb93-45b7-43f3-8cca-ca632da89314",
   "metadata": {},
   "outputs": [],
   "source": [
    "# Fixing formatting of columns names to match and changing some names for clarity\n",
    "df_cull.rename(columns={\n",
    "    'Size_class':'SizeClass',\n",
    "    'Protected_Acres':'ProtectedAcres',\n",
    "    'Lat_DD':'Latitude',\n",
    "    'Long_DD':'Longitude',\n",
    "    'FO_LandOwnType':'LandOwnType',\n",
    "    'Ign_DateTime':'IgniteDateTime',\n",
    "    'Discover_DateTime':'DiscoverDateTime',\n",
    "    'Control_DateTime':'ControlDateTime'\n",
    "}, inplace=True)"
   ]
  },
  {
   "cell_type": "code",
   "execution_count": 74,
   "id": "3a71799c-3234-4d6c-a5c2-c0bbbeb7257d",
   "metadata": {},
   "outputs": [
    {
     "data": {
      "text/html": [
       "<div>\n",
       "<style scoped>\n",
       "    .dataframe tbody tr th:only-of-type {\n",
       "        vertical-align: middle;\n",
       "    }\n",
       "\n",
       "    .dataframe tbody tr th {\n",
       "        vertical-align: top;\n",
       "    }\n",
       "\n",
       "    .dataframe thead th {\n",
       "        text-align: right;\n",
       "    }\n",
       "</style>\n",
       "<table border=\"1\" class=\"dataframe\">\n",
       "  <thead>\n",
       "    <tr style=\"text-align: right;\">\n",
       "      <th></th>\n",
       "      <th>FireYear</th>\n",
       "      <th>Area</th>\n",
       "      <th>DistrictName</th>\n",
       "      <th>UnitName</th>\n",
       "      <th>FireName</th>\n",
       "      <th>SizeClass</th>\n",
       "      <th>EstTotalAcres</th>\n",
       "      <th>ProtectedAcres</th>\n",
       "      <th>HumanOrLightning</th>\n",
       "      <th>CauseBy</th>\n",
       "      <th>GeneralCause</th>\n",
       "      <th>Latitude</th>\n",
       "      <th>Longitude</th>\n",
       "      <th>LandOwnType</th>\n",
       "      <th>County</th>\n",
       "      <th>IgniteDateTime</th>\n",
       "      <th>ReportDateTime</th>\n",
       "      <th>DiscoverDateTime</th>\n",
       "      <th>ControlDateTime</th>\n",
       "    </tr>\n",
       "  </thead>\n",
       "  <tbody>\n",
       "    <tr>\n",
       "      <th>0</th>\n",
       "      <td>2000</td>\n",
       "      <td>EOA</td>\n",
       "      <td>Central Oregon</td>\n",
       "      <td>John Day</td>\n",
       "      <td>Slick Ear #2</td>\n",
       "      <td>B</td>\n",
       "      <td>0.75</td>\n",
       "      <td>0.75</td>\n",
       "      <td>Lightning</td>\n",
       "      <td>Lightning</td>\n",
       "      <td>Lightning</td>\n",
       "      <td>44.91519</td>\n",
       "      <td>-119.28863</td>\n",
       "      <td>BLM</td>\n",
       "      <td>Grant</td>\n",
       "      <td>2000-07-18 19:00:00</td>\n",
       "      <td>2000-07-19 13:20:00</td>\n",
       "      <td>2000-07-19 13:15:00</td>\n",
       "      <td>2000-07-20 00:50:00</td>\n",
       "    </tr>\n",
       "    <tr>\n",
       "      <th>1</th>\n",
       "      <td>2000</td>\n",
       "      <td>EOA</td>\n",
       "      <td>Northeast Oregon</td>\n",
       "      <td>La Grande</td>\n",
       "      <td>Woodley</td>\n",
       "      <td>C</td>\n",
       "      <td>80.00</td>\n",
       "      <td>80.00</td>\n",
       "      <td>Lightning</td>\n",
       "      <td>Lightning</td>\n",
       "      <td>Lightning</td>\n",
       "      <td>45.08509</td>\n",
       "      <td>-118.33440</td>\n",
       "      <td>Other Private</td>\n",
       "      <td>Union</td>\n",
       "      <td>2000-08-24 05:30:00</td>\n",
       "      <td>2000-08-24 13:07:00</td>\n",
       "      <td>2000-08-24 13:07:00</td>\n",
       "      <td>2000-09-01 21:30:00</td>\n",
       "    </tr>\n",
       "    <tr>\n",
       "      <th>2</th>\n",
       "      <td>2001</td>\n",
       "      <td>SOA</td>\n",
       "      <td>Southwest Oregon</td>\n",
       "      <td>Grants Pass</td>\n",
       "      <td>QUEENS BRANCH</td>\n",
       "      <td>A</td>\n",
       "      <td>0.10</td>\n",
       "      <td>0.10</td>\n",
       "      <td>Human</td>\n",
       "      <td>Motorist</td>\n",
       "      <td>Smoking</td>\n",
       "      <td>42.53671</td>\n",
       "      <td>-123.21215</td>\n",
       "      <td>BLM</td>\n",
       "      <td>Jackson</td>\n",
       "      <td>2001-08-10 17:40:00</td>\n",
       "      <td>2001-08-10 17:47:00</td>\n",
       "      <td>2001-08-10 17:45:00</td>\n",
       "      <td>2001-08-10 18:30:00</td>\n",
       "    </tr>\n",
       "    <tr>\n",
       "      <th>3</th>\n",
       "      <td>2002</td>\n",
       "      <td>NOA</td>\n",
       "      <td>West Oregon</td>\n",
       "      <td>Philomath</td>\n",
       "      <td>WREN</td>\n",
       "      <td>A</td>\n",
       "      <td>0.01</td>\n",
       "      <td>0.01</td>\n",
       "      <td>Human</td>\n",
       "      <td>Motorist</td>\n",
       "      <td>Recreation</td>\n",
       "      <td>44.58709</td>\n",
       "      <td>-123.42779</td>\n",
       "      <td>State</td>\n",
       "      <td>Benton</td>\n",
       "      <td>2002-07-06 13:01:00</td>\n",
       "      <td>2002-07-06 13:04:00</td>\n",
       "      <td>2002-07-06 13:02:00</td>\n",
       "      <td>2002-07-06 13:07:00</td>\n",
       "    </tr>\n",
       "    <tr>\n",
       "      <th>4</th>\n",
       "      <td>2003</td>\n",
       "      <td>NOA</td>\n",
       "      <td>West Oregon</td>\n",
       "      <td>Dallas</td>\n",
       "      <td>Ritner Creek</td>\n",
       "      <td>A</td>\n",
       "      <td>0.01</td>\n",
       "      <td>0.01</td>\n",
       "      <td>Lightning</td>\n",
       "      <td>Lightning</td>\n",
       "      <td>Lightning</td>\n",
       "      <td>44.74026</td>\n",
       "      <td>-123.49811</td>\n",
       "      <td>Industrial</td>\n",
       "      <td>Polk</td>\n",
       "      <td>2003-08-22 04:00:00</td>\n",
       "      <td>2003-08-22 05:00:00</td>\n",
       "      <td>2003-08-22 05:00:00</td>\n",
       "      <td>2003-08-22 09:30:00</td>\n",
       "    </tr>\n",
       "  </tbody>\n",
       "</table>\n",
       "</div>"
      ],
      "text/plain": [
       "   FireYear Area      DistrictName     UnitName       FireName SizeClass  \\\n",
       "0      2000  EOA    Central Oregon     John Day   Slick Ear #2         B   \n",
       "1      2000  EOA  Northeast Oregon    La Grande        Woodley         C   \n",
       "2      2001  SOA  Southwest Oregon  Grants Pass  QUEENS BRANCH         A   \n",
       "3      2002  NOA       West Oregon    Philomath           WREN         A   \n",
       "4      2003  NOA       West Oregon       Dallas   Ritner Creek         A   \n",
       "\n",
       "   EstTotalAcres  ProtectedAcres HumanOrLightning    CauseBy GeneralCause  \\\n",
       "0           0.75            0.75        Lightning  Lightning    Lightning   \n",
       "1          80.00           80.00        Lightning  Lightning    Lightning   \n",
       "2           0.10            0.10            Human   Motorist      Smoking   \n",
       "3           0.01            0.01            Human   Motorist   Recreation   \n",
       "4           0.01            0.01        Lightning  Lightning    Lightning   \n",
       "\n",
       "   Latitude  Longitude    LandOwnType   County      IgniteDateTime  \\\n",
       "0  44.91519 -119.28863            BLM    Grant 2000-07-18 19:00:00   \n",
       "1  45.08509 -118.33440  Other Private    Union 2000-08-24 05:30:00   \n",
       "2  42.53671 -123.21215            BLM  Jackson 2001-08-10 17:40:00   \n",
       "3  44.58709 -123.42779          State   Benton 2002-07-06 13:01:00   \n",
       "4  44.74026 -123.49811     Industrial     Polk 2003-08-22 04:00:00   \n",
       "\n",
       "       ReportDateTime    DiscoverDateTime     ControlDateTime  \n",
       "0 2000-07-19 13:20:00 2000-07-19 13:15:00 2000-07-20 00:50:00  \n",
       "1 2000-08-24 13:07:00 2000-08-24 13:07:00 2000-09-01 21:30:00  \n",
       "2 2001-08-10 17:47:00 2001-08-10 17:45:00 2001-08-10 18:30:00  \n",
       "3 2002-07-06 13:04:00 2002-07-06 13:02:00 2002-07-06 13:07:00  \n",
       "4 2003-08-22 05:00:00 2003-08-22 05:00:00 2003-08-22 09:30:00  "
      ]
     },
     "execution_count": 74,
     "metadata": {},
     "output_type": "execute_result"
    }
   ],
   "source": [
    "# Checking column name changes\n",
    "df_cull.head()"
   ]
  },
  {
   "cell_type": "code",
   "execution_count": 79,
   "id": "b0bfcb5d-33f6-4b56-bf3c-69ff5ca7de7e",
   "metadata": {},
   "outputs": [
    {
     "data": {
      "text/plain": [
       "(23480, 19)"
      ]
     },
     "execution_count": 79,
     "metadata": {},
     "output_type": "execute_result"
    }
   ],
   "source": [
    "df_cull.shape"
   ]
  },
  {
   "cell_type": "markdown",
   "id": "3da1c2cd-f25b-4964-a011-fc861fbd96fb",
   "metadata": {},
   "source": [
    "## 04. Descriptive Statistical Analysis"
   ]
  },
  {
   "cell_type": "code",
   "execution_count": 77,
   "id": "dc246c10-37c0-4aee-83b2-6e3326b9fed6",
   "metadata": {},
   "outputs": [
    {
     "data": {
      "text/html": [
       "<div>\n",
       "<style scoped>\n",
       "    .dataframe tbody tr th:only-of-type {\n",
       "        vertical-align: middle;\n",
       "    }\n",
       "\n",
       "    .dataframe tbody tr th {\n",
       "        vertical-align: top;\n",
       "    }\n",
       "\n",
       "    .dataframe thead th {\n",
       "        text-align: right;\n",
       "    }\n",
       "</style>\n",
       "<table border=\"1\" class=\"dataframe\">\n",
       "  <thead>\n",
       "    <tr style=\"text-align: right;\">\n",
       "      <th></th>\n",
       "      <th>FireYear</th>\n",
       "      <th>EstTotalAcres</th>\n",
       "      <th>ProtectedAcres</th>\n",
       "      <th>Latitude</th>\n",
       "      <th>Longitude</th>\n",
       "      <th>IgniteDateTime</th>\n",
       "      <th>ReportDateTime</th>\n",
       "      <th>DiscoverDateTime</th>\n",
       "      <th>ControlDateTime</th>\n",
       "    </tr>\n",
       "  </thead>\n",
       "  <tbody>\n",
       "    <tr>\n",
       "      <th>count</th>\n",
       "      <td>23480.000000</td>\n",
       "      <td>23480.000000</td>\n",
       "      <td>23480.000000</td>\n",
       "      <td>23480.000000</td>\n",
       "      <td>23480.000000</td>\n",
       "      <td>23395</td>\n",
       "      <td>23480</td>\n",
       "      <td>23394</td>\n",
       "      <td>23394</td>\n",
       "    </tr>\n",
       "    <tr>\n",
       "      <th>mean</th>\n",
       "      <td>2010.798552</td>\n",
       "      <td>264.471144</td>\n",
       "      <td>58.920062</td>\n",
       "      <td>43.718410</td>\n",
       "      <td>-122.258736</td>\n",
       "      <td>2011-05-04 02:53:21.191707904</td>\n",
       "      <td>2011-05-17 15:46:57.728279552</td>\n",
       "      <td>2011-05-07 14:47:49.148499456</td>\n",
       "      <td>2011-05-12 01:57:36.883816192</td>\n",
       "    </tr>\n",
       "    <tr>\n",
       "      <th>min</th>\n",
       "      <td>2000.000000</td>\n",
       "      <td>0.000000</td>\n",
       "      <td>0.000000</td>\n",
       "      <td>41.089460</td>\n",
       "      <td>-124.983610</td>\n",
       "      <td>1988-09-23 18:30:00</td>\n",
       "      <td>2000-03-13 14:00:00</td>\n",
       "      <td>2000-03-13 14:00:00</td>\n",
       "      <td>2000-03-13 15:01:00</td>\n",
       "    </tr>\n",
       "    <tr>\n",
       "      <th>25%</th>\n",
       "      <td>2005.000000</td>\n",
       "      <td>0.010000</td>\n",
       "      <td>0.010000</td>\n",
       "      <td>42.526093</td>\n",
       "      <td>-123.387420</td>\n",
       "      <td>2005-07-31 19:47:30</td>\n",
       "      <td>2005-08-04 14:19:00</td>\n",
       "      <td>2005-08-02 10:58:30</td>\n",
       "      <td>2005-08-03 11:22:30</td>\n",
       "    </tr>\n",
       "    <tr>\n",
       "      <th>50%</th>\n",
       "      <td>2011.000000</td>\n",
       "      <td>0.100000</td>\n",
       "      <td>0.100000</td>\n",
       "      <td>43.581805</td>\n",
       "      <td>-122.847220</td>\n",
       "      <td>2011-06-10 09:00:00</td>\n",
       "      <td>2011-07-05 05:53:30</td>\n",
       "      <td>2011-06-20 14:37:30</td>\n",
       "      <td>2011-06-23 11:24:30</td>\n",
       "    </tr>\n",
       "    <tr>\n",
       "      <th>75%</th>\n",
       "      <td>2017.000000</td>\n",
       "      <td>0.500000</td>\n",
       "      <td>0.350000</td>\n",
       "      <td>44.789518</td>\n",
       "      <td>-121.541827</td>\n",
       "      <td>2017-07-09 03:58:30</td>\n",
       "      <td>2017-07-15 15:26:00</td>\n",
       "      <td>2017-07-09 18:53:30</td>\n",
       "      <td>2017-07-12 12:43:30</td>\n",
       "    </tr>\n",
       "    <tr>\n",
       "      <th>max</th>\n",
       "      <td>2022.000000</td>\n",
       "      <td>499945.000000</td>\n",
       "      <td>154570.000000</td>\n",
       "      <td>46.235000</td>\n",
       "      <td>-116.521110</td>\n",
       "      <td>2022-11-26 18:00:00</td>\n",
       "      <td>2022-11-27 11:44:00</td>\n",
       "      <td>2022-11-27 11:15:00</td>\n",
       "      <td>2077-08-28 23:00:00</td>\n",
       "    </tr>\n",
       "    <tr>\n",
       "      <th>std</th>\n",
       "      <td>6.734325</td>\n",
       "      <td>6753.867371</td>\n",
       "      <td>1846.509491</td>\n",
       "      <td>1.226385</td>\n",
       "      <td>1.707589</td>\n",
       "      <td>NaN</td>\n",
       "      <td>NaN</td>\n",
       "      <td>NaN</td>\n",
       "      <td>NaN</td>\n",
       "    </tr>\n",
       "  </tbody>\n",
       "</table>\n",
       "</div>"
      ],
      "text/plain": [
       "           FireYear  EstTotalAcres  ProtectedAcres      Latitude  \\\n",
       "count  23480.000000   23480.000000    23480.000000  23480.000000   \n",
       "mean    2010.798552     264.471144       58.920062     43.718410   \n",
       "min     2000.000000       0.000000        0.000000     41.089460   \n",
       "25%     2005.000000       0.010000        0.010000     42.526093   \n",
       "50%     2011.000000       0.100000        0.100000     43.581805   \n",
       "75%     2017.000000       0.500000        0.350000     44.789518   \n",
       "max     2022.000000  499945.000000   154570.000000     46.235000   \n",
       "std        6.734325    6753.867371     1846.509491      1.226385   \n",
       "\n",
       "          Longitude                 IgniteDateTime  \\\n",
       "count  23480.000000                          23395   \n",
       "mean    -122.258736  2011-05-04 02:53:21.191707904   \n",
       "min     -124.983610            1988-09-23 18:30:00   \n",
       "25%     -123.387420            2005-07-31 19:47:30   \n",
       "50%     -122.847220            2011-06-10 09:00:00   \n",
       "75%     -121.541827            2017-07-09 03:58:30   \n",
       "max     -116.521110            2022-11-26 18:00:00   \n",
       "std        1.707589                            NaN   \n",
       "\n",
       "                      ReportDateTime               DiscoverDateTime  \\\n",
       "count                          23480                          23394   \n",
       "mean   2011-05-17 15:46:57.728279552  2011-05-07 14:47:49.148499456   \n",
       "min              2000-03-13 14:00:00            2000-03-13 14:00:00   \n",
       "25%              2005-08-04 14:19:00            2005-08-02 10:58:30   \n",
       "50%              2011-07-05 05:53:30            2011-06-20 14:37:30   \n",
       "75%              2017-07-15 15:26:00            2017-07-09 18:53:30   \n",
       "max              2022-11-27 11:44:00            2022-11-27 11:15:00   \n",
       "std                              NaN                            NaN   \n",
       "\n",
       "                     ControlDateTime  \n",
       "count                          23394  \n",
       "mean   2011-05-12 01:57:36.883816192  \n",
       "min              2000-03-13 15:01:00  \n",
       "25%              2005-08-03 11:22:30  \n",
       "50%              2011-06-23 11:24:30  \n",
       "75%              2017-07-12 12:43:30  \n",
       "max              2077-08-28 23:00:00  \n",
       "std                              NaN  "
      ]
     },
     "execution_count": 77,
     "metadata": {},
     "output_type": "execute_result"
    }
   ],
   "source": [
    "# Descriptive statistics of numerical columns\n",
    "df_cull.describe()"
   ]
  },
  {
   "cell_type": "code",
   "execution_count": 78,
   "id": "668f60a4-b2d5-4f8f-a664-3c31549bc955",
   "metadata": {},
   "outputs": [
    {
     "data": {
      "text/html": [
       "<div>\n",
       "<style scoped>\n",
       "    .dataframe tbody tr th:only-of-type {\n",
       "        vertical-align: middle;\n",
       "    }\n",
       "\n",
       "    .dataframe tbody tr th {\n",
       "        vertical-align: top;\n",
       "    }\n",
       "\n",
       "    .dataframe thead th {\n",
       "        text-align: right;\n",
       "    }\n",
       "</style>\n",
       "<table border=\"1\" class=\"dataframe\">\n",
       "  <thead>\n",
       "    <tr style=\"text-align: right;\">\n",
       "      <th></th>\n",
       "      <th>Area</th>\n",
       "      <th>DistrictName</th>\n",
       "      <th>UnitName</th>\n",
       "      <th>FireName</th>\n",
       "      <th>SizeClass</th>\n",
       "      <th>HumanOrLightning</th>\n",
       "      <th>CauseBy</th>\n",
       "      <th>GeneralCause</th>\n",
       "      <th>LandOwnType</th>\n",
       "      <th>County</th>\n",
       "    </tr>\n",
       "  </thead>\n",
       "  <tbody>\n",
       "    <tr>\n",
       "      <th>0</th>\n",
       "      <td>SOA</td>\n",
       "      <td>Southwest Oregon</td>\n",
       "      <td>Grants Pass</td>\n",
       "      <td>Mill Creek</td>\n",
       "      <td>A</td>\n",
       "      <td>Human</td>\n",
       "      <td>Lightning</td>\n",
       "      <td>Lightning</td>\n",
       "      <td>Rural Residential</td>\n",
       "      <td>Jackson</td>\n",
       "    </tr>\n",
       "  </tbody>\n",
       "</table>\n",
       "</div>"
      ],
      "text/plain": [
       "  Area      DistrictName     UnitName    FireName SizeClass HumanOrLightning  \\\n",
       "0  SOA  Southwest Oregon  Grants Pass  Mill Creek         A            Human   \n",
       "\n",
       "     CauseBy GeneralCause        LandOwnType   County  \n",
       "0  Lightning    Lightning  Rural Residential  Jackson  "
      ]
     },
     "execution_count": 78,
     "metadata": {},
     "output_type": "execute_result"
    }
   ],
   "source": [
    "# Finding the mode for all non-numerical columns\n",
    "non_num_columns = df_cull.select_dtypes(include=['object'])\n",
    "\n",
    "non_num_columns.mode()"
   ]
  },
  {
   "cell_type": "markdown",
   "id": "52162a33-ae66-4e85-b5f7-9a2eb22d7e06",
   "metadata": {},
   "source": [
    "## 05. Exporting Data"
   ]
  },
  {
   "cell_type": "code",
   "execution_count": 80,
   "id": "03d35365-84ab-49d7-9953-ccf05faa9d7b",
   "metadata": {},
   "outputs": [],
   "source": [
    "# Exporting cleaned dataset\n",
    "df_cull.to_csv(os.path.join(path, '02 Data', 'Prepared Data', 'fire_occurrence_clean.csv'))"
   ]
  },
  {
   "cell_type": "code",
   "execution_count": null,
   "id": "97d016c3-767d-4eb0-8d3f-519e9b1a0c1d",
   "metadata": {},
   "outputs": [],
   "source": []
  }
 ],
 "metadata": {
  "kernelspec": {
   "display_name": "Python 3 (ipykernel)",
   "language": "python",
   "name": "python3"
  },
  "language_info": {
   "codemirror_mode": {
    "name": "ipython",
    "version": 3
   },
   "file_extension": ".py",
   "mimetype": "text/x-python",
   "name": "python",
   "nbconvert_exporter": "python",
   "pygments_lexer": "ipython3",
   "version": "3.12.7"
  }
 },
 "nbformat": 4,
 "nbformat_minor": 5
}
